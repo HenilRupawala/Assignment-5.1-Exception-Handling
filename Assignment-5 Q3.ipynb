{
 "cells": [
  {
   "cell_type": "code",
   "execution_count": 1,
   "id": "24d4fa74-5c38-4198-89c7-09c85afdd116",
   "metadata": {},
   "outputs": [],
   "source": [
    "# Q3. What errors are defined in the ArithmeticError class? Explain any two with an example."
   ]
  },
  {
   "cell_type": "markdown",
   "id": "74d45668-2686-4d02-bb42-b933fa6864e0",
   "metadata": {},
   "source": [
    "The ArithmeticError class in Python is a base class for arithmetic-related exceptions. It serves as a superclass for various specific arithmetic exceptions, each representing a different type of arithmetic error. Some of the errors defined in the ArithmeticError class include:"
   ]
  },
  {
   "cell_type": "markdown",
   "id": "61c33454-5d6c-4e45-910c-8497f2d0b733",
   "metadata": {},
   "source": [
    "**1. ZeroDivisionError:** This exception occurs when a division or modulo operation is performed with zero as the divisor. For example:"
   ]
  },
  {
   "cell_type": "code",
   "execution_count": 2,
   "id": "b0d0418f-72d9-41fb-8dea-dfdf33ebb655",
   "metadata": {},
   "outputs": [
    {
     "name": "stdout",
     "output_type": "stream",
     "text": [
      "Cannot divide by zero!\n"
     ]
    }
   ],
   "source": [
    "try:\n",
    "    result = 5 / 0\n",
    "except ZeroDivisionError:\n",
    "    print(\"Cannot divide by zero!\")"
   ]
  },
  {
   "cell_type": "markdown",
   "id": "d2d4d72d-2372-4461-acdd-63a466318605",
   "metadata": {},
   "source": [
    "**2. OverflowError:** This exception occurs when the result of an arithmetic operation exceeds the maximum representable value for a numeric type. For example:"
   ]
  },
  {
   "cell_type": "code",
   "execution_count": 13,
   "id": "9b40abe5-c188-45e9-a125-62072a799590",
   "metadata": {},
   "outputs": [
    {
     "name": "stdout",
     "output_type": "stream",
     "text": [
      "Arithmetic operation resulted in overflow!\n"
     ]
    }
   ],
   "source": [
    "j = 6.0\n",
    "\n",
    "try:\n",
    "    for i in range(1, 1000):\n",
    "        j = j**i\n",
    "except OverflowError:\n",
    "    print(f\"Arithmetic operation resulted in overflow!\")"
   ]
  }
 ],
 "metadata": {
  "kernelspec": {
   "display_name": "Python 3 (ipykernel)",
   "language": "python",
   "name": "python3"
  },
  "language_info": {
   "codemirror_mode": {
    "name": "ipython",
    "version": 3
   },
   "file_extension": ".py",
   "mimetype": "text/x-python",
   "name": "python",
   "nbconvert_exporter": "python",
   "pygments_lexer": "ipython3",
   "version": "3.10.8"
  }
 },
 "nbformat": 4,
 "nbformat_minor": 5
}
