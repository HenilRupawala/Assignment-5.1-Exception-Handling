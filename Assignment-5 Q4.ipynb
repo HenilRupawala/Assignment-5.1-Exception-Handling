{
 "cells": [
  {
   "cell_type": "code",
   "execution_count": 1,
   "id": "3a3c0c28-4bc8-4807-a61f-b359df93d1b5",
   "metadata": {},
   "outputs": [],
   "source": [
    "# Q4. Why LookupError class is used? Explain with an example KeyError and IndexError."
   ]
  },
  {
   "cell_type": "markdown",
   "id": "c52eed94-027e-4cb6-a759-8649eab6cb51",
   "metadata": {},
   "source": [
    "The **LookupError** class in Python is a base class for exceptions that occur when a lookup or indexing operation fails. It serves as a superclass for more specific lookup-related exceptions, such as **KeyError** and **IndexError**.\n",
    "\n",
    "Here's an explanation of **KeyError** and **IndexError**, along with an example:"
   ]
  },
  {
   "cell_type": "markdown",
   "id": "f47000a4-b4d0-43bd-a999-40c7c4d183be",
   "metadata": {},
   "source": [
    "**1. KeyError:** KeyError is raised when you try to access a dictionary using a key that does not exist in the dictionary.\n",
    "Example:"
   ]
  },
  {
   "cell_type": "code",
   "execution_count": 2,
   "id": "bc20fc6c-2ee6-4214-979c-ac1aafe9f79b",
   "metadata": {},
   "outputs": [
    {
     "name": "stdout",
     "output_type": "stream",
     "text": [
      "Key not found in dictionary.\n"
     ]
    }
   ],
   "source": [
    "my_dict = {\"apple\": 1, \"banana\": 2, \"orange\": 3}\n",
    "\n",
    "try:\n",
    "    print(my_dict[\"grape\"])\n",
    "except KeyError:\n",
    "    print(\"Key not found in dictionary.\")"
   ]
  },
  {
   "cell_type": "markdown",
   "id": "00baaa9f-8172-492f-b7b9-79d0aac08cac",
   "metadata": {},
   "source": [
    "**2. IndexError:** IndexError is raised when you try to access a sequence (such as a list or a string) using an invalid index that is out of range."
   ]
  },
  {
   "cell_type": "code",
   "execution_count": 3,
   "id": "0593404b-ea2d-40c6-bac4-20607b801b6c",
   "metadata": {},
   "outputs": [
    {
     "name": "stdout",
     "output_type": "stream",
     "text": [
      "Index out of range.\n"
     ]
    }
   ],
   "source": [
    "my_list = [1, 2, 3]\n",
    "\n",
    "try:\n",
    "    print(my_list[3])\n",
    "except IndexError:\n",
    "    print(\"Index out of range.\")"
   ]
  }
 ],
 "metadata": {
  "kernelspec": {
   "display_name": "Python 3 (ipykernel)",
   "language": "python",
   "name": "python3"
  },
  "language_info": {
   "codemirror_mode": {
    "name": "ipython",
    "version": 3
   },
   "file_extension": ".py",
   "mimetype": "text/x-python",
   "name": "python",
   "nbconvert_exporter": "python",
   "pygments_lexer": "ipython3",
   "version": "3.10.8"
  }
 },
 "nbformat": 4,
 "nbformat_minor": 5
}
