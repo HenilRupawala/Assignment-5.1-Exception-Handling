{
 "cells": [
  {
   "cell_type": "code",
   "execution_count": 1,
   "id": "8f685a2b-d3a7-4157-a5c7-cfdabfd7d15c",
   "metadata": {},
   "outputs": [],
   "source": [
    "# Q1. Explain why we have to use the Exception class while creating a Custom Exception.\n",
    "# Note: Here Exception class refers to the base class for all the exceptions."
   ]
  },
  {
   "cell_type": "markdown",
   "id": "15a93b23-8374-45f1-b4c0-6334e3b2f95a",
   "metadata": {},
   "source": [
    "In Python, the **Exception** class serves as the base class for all built-in and user-defined exceptions. When creating a custom exception, it is recommended to inherit from the **Exception** class or one of its subclasses.\n",
    "\n",
    "Here are the reasons why we use the **Exception** class as the base class for custom exceptions:\n",
    "\n",
    "1. **Consistency and Compatibility:** By inheriting from the **Exception** class, you ensure that your custom exception follows the same hierarchy and interface as other exceptions in the Python language. This makes your custom exception consistent with the existing exception classes and allows it to be used in a compatible manner with the built-in exception handling mechanisms.\n",
    "\n",
    "2. **Exception Handling:** The **Exception** class provides essential features and methods that facilitate exception handling. It includes attributes like **args** to store error messages, **__str__** to provide a string representation of the exception, and methods like **__init__** for initialization. By inheriting from the **Exception** class, your custom exception inherits these capabilities, allowing you to leverage them in your exception handling code.\n",
    "\n",
    "3. **Standardization and Best Practices:** Following the standard practice of inheriting from the **Exception** class ensures that your custom exception is easily recognizable and understandable by other Python developers. It helps maintain a consistent coding style and promotes adherence to established conventions and best practices.\n",
    "\n",
    "4. **Compatibility with Exception Handling Mechanisms:** In Python, exception handling relies on catching and handling exceptions based on their class hierarchy. By inheriting from the **Exception** class, your custom exception can be caught using **except Exception** or a more specific **except** clause targeting your custom exception type. This allows you to handle your custom exception alongside other exceptions in a unified manner.\n",
    "\n",
    "By using the **Exception** class as the base class for custom exceptions, you ensure that your exceptions are compatible with the existing exception framework in Python. It promotes consistency, improves code readability, and enables effective exception handling throughout your codebase.\n"
   ]
  },
  {
   "cell_type": "code",
   "execution_count": null,
   "id": "0353df81-155a-4af6-8aaa-382b7dbaeb77",
   "metadata": {},
   "outputs": [],
   "source": []
  }
 ],
 "metadata": {
  "kernelspec": {
   "display_name": "Python 3 (ipykernel)",
   "language": "python",
   "name": "python3"
  },
  "language_info": {
   "codemirror_mode": {
    "name": "ipython",
    "version": 3
   },
   "file_extension": ".py",
   "mimetype": "text/x-python",
   "name": "python",
   "nbconvert_exporter": "python",
   "pygments_lexer": "ipython3",
   "version": "3.10.8"
  }
 },
 "nbformat": 4,
 "nbformat_minor": 5
}
