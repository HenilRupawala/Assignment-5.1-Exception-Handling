{
 "cells": [
  {
   "cell_type": "code",
   "execution_count": 1,
   "id": "9916ef4c-4a18-4e49-8904-6f93a0b49e1d",
   "metadata": {},
   "outputs": [],
   "source": [
    "# Q5. Explain ImportError. What is ModuleNotFoundError?"
   ]
  },
  {
   "cell_type": "markdown",
   "id": "8c599f0c-b0a3-4119-92bd-8e0f559649d8",
   "metadata": {},
   "source": [
    "**ImportError** and **ModuleNotFoundError** are both exceptions related to importing modules in Python. Here's an explanation of each:\n",
    "\n",
    "**1. ImportError**: ImportError is a base class for exceptions that occur when there are issues with importing a module. It is raised when an imported module cannot be found, has errors in its code, or encounters any other import-related problem.\n",
    "\n",
    "Example:"
   ]
  },
  {
   "cell_type": "code",
   "execution_count": 2,
   "id": "0af6d38d-e3d6-4ec0-9ad2-1265a1a4ef7c",
   "metadata": {},
   "outputs": [
    {
     "name": "stdout",
     "output_type": "stream",
     "text": [
      "Module cannot be imported.\n"
     ]
    }
   ],
   "source": [
    "try:\n",
    "    import non_existing_module\n",
    "except ImportError:\n",
    "    print(\"Module cannot be imported.\")"
   ]
  },
  {
   "cell_type": "markdown",
   "id": "fb4c4d3c-0809-4536-91c8-f4b8ebceb1fd",
   "metadata": {},
   "source": [
    "**2. ModuleNotFoundError:** ModuleNotFoundError is a subclass of ImportError that specifically indicates that the requested module could not be found.\n",
    "\n",
    "Example:"
   ]
  },
  {
   "cell_type": "code",
   "execution_count": 4,
   "id": "3ac315d1-1070-46f7-89d4-fb82d93dd878",
   "metadata": {},
   "outputs": [
    {
     "name": "stdout",
     "output_type": "stream",
     "text": [
      "Module not found.\n"
     ]
    }
   ],
   "source": [
    "try:\n",
    "    import non_existing_module\n",
    "except ModuleNotFoundError:\n",
    "    print(\"Module not found.\")"
   ]
  }
 ],
 "metadata": {
  "kernelspec": {
   "display_name": "Python 3 (ipykernel)",
   "language": "python",
   "name": "python3"
  },
  "language_info": {
   "codemirror_mode": {
    "name": "ipython",
    "version": 3
   },
   "file_extension": ".py",
   "mimetype": "text/x-python",
   "name": "python",
   "nbconvert_exporter": "python",
   "pygments_lexer": "ipython3",
   "version": "3.10.8"
  }
 },
 "nbformat": 4,
 "nbformat_minor": 5
}
